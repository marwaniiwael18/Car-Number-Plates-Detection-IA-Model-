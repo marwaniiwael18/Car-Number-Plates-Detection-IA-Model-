{
  "cells": [
    {
      "cell_type": "code",
      "execution_count": 1,
      "metadata": {
        "colab": {
          "base_uri": "https://localhost:8080/"
        },
        "id": "hD8TRh0rCSmO",
        "outputId": "c60b9fe5-37e5-4833-fbcc-248ceb569807"
      },
      "outputs": [
        {
          "name": "stdout",
          "output_type": "stream",
          "text": [
            "Requirement already satisfied: easyocr in /Users/macbook/Documents/Personnel/Car-Number-Plates-Detection/venv/lib/python3.13/site-packages (1.7.2)\n",
            "Requirement already satisfied: torch in /Users/macbook/Documents/Personnel/Car-Number-Plates-Detection/venv/lib/python3.13/site-packages (from easyocr) (2.6.0)\n",
            "Requirement already satisfied: torchvision>=0.5 in /Users/macbook/Documents/Personnel/Car-Number-Plates-Detection/venv/lib/python3.13/site-packages (from easyocr) (0.21.0)\n",
            "Requirement already satisfied: opencv-python-headless in /Users/macbook/Documents/Personnel/Car-Number-Plates-Detection/venv/lib/python3.13/site-packages (from easyocr) (4.11.0.86)\n",
            "Requirement already satisfied: scipy in /Users/macbook/Documents/Personnel/Car-Number-Plates-Detection/venv/lib/python3.13/site-packages (from easyocr) (1.15.2)\n",
            "Requirement already satisfied: numpy in /Users/macbook/Documents/Personnel/Car-Number-Plates-Detection/venv/lib/python3.13/site-packages (from easyocr) (2.2.3)\n",
            "Requirement already satisfied: Pillow in /Users/macbook/Documents/Personnel/Car-Number-Plates-Detection/venv/lib/python3.13/site-packages (from easyocr) (11.1.0)\n",
            "Requirement already satisfied: scikit-image in /Users/macbook/Documents/Personnel/Car-Number-Plates-Detection/venv/lib/python3.13/site-packages (from easyocr) (0.25.2)\n",
            "Requirement already satisfied: python-bidi in /Users/macbook/Documents/Personnel/Car-Number-Plates-Detection/venv/lib/python3.13/site-packages (from easyocr) (0.6.6)\n",
            "Requirement already satisfied: PyYAML in /Users/macbook/Documents/Personnel/Car-Number-Plates-Detection/venv/lib/python3.13/site-packages (from easyocr) (6.0.2)\n",
            "Requirement already satisfied: Shapely in /Users/macbook/Documents/Personnel/Car-Number-Plates-Detection/venv/lib/python3.13/site-packages (from easyocr) (2.0.7)\n",
            "Requirement already satisfied: pyclipper in /Users/macbook/Documents/Personnel/Car-Number-Plates-Detection/venv/lib/python3.13/site-packages (from easyocr) (1.3.0.post6)\n",
            "Requirement already satisfied: ninja in /Users/macbook/Documents/Personnel/Car-Number-Plates-Detection/venv/lib/python3.13/site-packages (from easyocr) (1.11.1.3)\n",
            "Requirement already satisfied: filelock in /Users/macbook/Documents/Personnel/Car-Number-Plates-Detection/venv/lib/python3.13/site-packages (from torch->easyocr) (3.17.0)\n",
            "Requirement already satisfied: typing-extensions>=4.10.0 in /Users/macbook/Documents/Personnel/Car-Number-Plates-Detection/venv/lib/python3.13/site-packages (from torch->easyocr) (4.12.2)\n",
            "Requirement already satisfied: networkx in /Users/macbook/Documents/Personnel/Car-Number-Plates-Detection/venv/lib/python3.13/site-packages (from torch->easyocr) (3.4.2)\n",
            "Requirement already satisfied: jinja2 in /Users/macbook/Documents/Personnel/Car-Number-Plates-Detection/venv/lib/python3.13/site-packages (from torch->easyocr) (3.1.6)\n",
            "Requirement already satisfied: fsspec in /Users/macbook/Documents/Personnel/Car-Number-Plates-Detection/venv/lib/python3.13/site-packages (from torch->easyocr) (2025.3.0)\n",
            "Requirement already satisfied: setuptools in /Users/macbook/Documents/Personnel/Car-Number-Plates-Detection/venv/lib/python3.13/site-packages (from torch->easyocr) (76.0.0)\n",
            "Requirement already satisfied: sympy==1.13.1 in /Users/macbook/Documents/Personnel/Car-Number-Plates-Detection/venv/lib/python3.13/site-packages (from torch->easyocr) (1.13.1)\n",
            "Requirement already satisfied: mpmath<1.4,>=1.1.0 in /Users/macbook/Documents/Personnel/Car-Number-Plates-Detection/venv/lib/python3.13/site-packages (from sympy==1.13.1->torch->easyocr) (1.3.0)\n",
            "Requirement already satisfied: imageio!=2.35.0,>=2.33 in /Users/macbook/Documents/Personnel/Car-Number-Plates-Detection/venv/lib/python3.13/site-packages (from scikit-image->easyocr) (2.37.0)\n",
            "Requirement already satisfied: tifffile>=2022.8.12 in /Users/macbook/Documents/Personnel/Car-Number-Plates-Detection/venv/lib/python3.13/site-packages (from scikit-image->easyocr) (2025.2.18)\n",
            "Requirement already satisfied: packaging>=21 in /Users/macbook/Documents/Personnel/Car-Number-Plates-Detection/venv/lib/python3.13/site-packages (from scikit-image->easyocr) (24.2)\n",
            "Requirement already satisfied: lazy-loader>=0.4 in /Users/macbook/Documents/Personnel/Car-Number-Plates-Detection/venv/lib/python3.13/site-packages (from scikit-image->easyocr) (0.4)\n",
            "Requirement already satisfied: MarkupSafe>=2.0 in /Users/macbook/Documents/Personnel/Car-Number-Plates-Detection/venv/lib/python3.13/site-packages (from jinja2->torch->easyocr) (3.0.2)\n",
            "\n",
            "\u001b[1m[\u001b[0m\u001b[34;49mnotice\u001b[0m\u001b[1;39;49m]\u001b[0m\u001b[39;49m A new release of pip is available: \u001b[0m\u001b[31;49m25.0\u001b[0m\u001b[39;49m -> \u001b[0m\u001b[32;49m25.0.1\u001b[0m\n",
            "\u001b[1m[\u001b[0m\u001b[34;49mnotice\u001b[0m\u001b[1;39;49m]\u001b[0m\u001b[39;49m To update, run: \u001b[0m\u001b[32;49mpip install --upgrade pip\u001b[0m\n"
          ]
        }
      ],
      "source": [
        "!pip install easyocr"
      ]
    },
    {
      "cell_type": "code",
      "execution_count": 2,
      "metadata": {
        "id": "6wKgPU52CZ6K"
      },
      "outputs": [],
      "source": [
        "import matplotlib.pyplot as plt\n",
        "import cv2\n",
        "import easyocr\n",
        "from IPython.display import Image"
      ]
    },
    {
      "cell_type": "code",
      "execution_count": 3,
      "metadata": {
        "colab": {
          "base_uri": "https://localhost:8080/",
          "height": 65
        },
        "id": "hxBLiy0AChPp",
        "outputId": "6f8e0eb9-eeaf-4561-dd16-50689139a125"
      },
      "outputs": [
        {
          "ename": "FileNotFoundError",
          "evalue": "No such file or directory: '/Users/macbook/Documents/Personnel/Car-Number-Plates-Detection/plates/s2222.png'",
          "output_type": "error",
          "traceback": [
            "\u001b[31m---------------------------------------------------------------------------\u001b[39m",
            "\u001b[31mTypeError\u001b[39m                                 Traceback (most recent call last)",
            "\u001b[36mFile \u001b[39m\u001b[32m~/Documents/Personnel/Car-Number-Plates-Detection/venv/lib/python3.13/site-packages/IPython/core/display.py:1100\u001b[39m, in \u001b[36mImage._data_and_metadata\u001b[39m\u001b[34m(self, always_both)\u001b[39m\n\u001b[32m   1099\u001b[39m \u001b[38;5;28;01mtry\u001b[39;00m:\n\u001b[32m-> \u001b[39m\u001b[32m1100\u001b[39m     b64_data = \u001b[43mb2a_base64\u001b[49m\u001b[43m(\u001b[49m\u001b[38;5;28;43mself\u001b[39;49m\u001b[43m.\u001b[49m\u001b[43mdata\u001b[49m\u001b[43m,\u001b[49m\u001b[43m \u001b[49m\u001b[43mnewline\u001b[49m\u001b[43m=\u001b[49m\u001b[38;5;28;43;01mFalse\u001b[39;49;00m\u001b[43m)\u001b[49m.decode(\u001b[33m\"\u001b[39m\u001b[33mascii\u001b[39m\u001b[33m\"\u001b[39m)\n\u001b[32m   1101\u001b[39m \u001b[38;5;28;01mexcept\u001b[39;00m \u001b[38;5;167;01mTypeError\u001b[39;00m \u001b[38;5;28;01mas\u001b[39;00m e:\n",
            "\u001b[31mTypeError\u001b[39m: a bytes-like object is required, not 'str'",
            "\nThe above exception was the direct cause of the following exception:\n",
            "\u001b[31mFileNotFoundError\u001b[39m                         Traceback (most recent call last)",
            "\u001b[36mFile \u001b[39m\u001b[32m~/Documents/Personnel/Car-Number-Plates-Detection/venv/lib/python3.13/site-packages/IPython/core/formatters.py:1036\u001b[39m, in \u001b[36mMimeBundleFormatter.__call__\u001b[39m\u001b[34m(self, obj, include, exclude)\u001b[39m\n\u001b[32m   1033\u001b[39m     method = get_real_method(obj, \u001b[38;5;28mself\u001b[39m.print_method)\n\u001b[32m   1035\u001b[39m     \u001b[38;5;28;01mif\u001b[39;00m method \u001b[38;5;129;01mis\u001b[39;00m \u001b[38;5;129;01mnot\u001b[39;00m \u001b[38;5;28;01mNone\u001b[39;00m:\n\u001b[32m-> \u001b[39m\u001b[32m1036\u001b[39m         \u001b[38;5;28;01mreturn\u001b[39;00m \u001b[43mmethod\u001b[49m\u001b[43m(\u001b[49m\u001b[43minclude\u001b[49m\u001b[43m=\u001b[49m\u001b[43minclude\u001b[49m\u001b[43m,\u001b[49m\u001b[43m \u001b[49m\u001b[43mexclude\u001b[49m\u001b[43m=\u001b[49m\u001b[43mexclude\u001b[49m\u001b[43m)\u001b[49m\n\u001b[32m   1037\u001b[39m     \u001b[38;5;28;01mreturn\u001b[39;00m \u001b[38;5;28;01mNone\u001b[39;00m\n\u001b[32m   1038\u001b[39m \u001b[38;5;28;01melse\u001b[39;00m:\n",
            "\u001b[36mFile \u001b[39m\u001b[32m~/Documents/Personnel/Car-Number-Plates-Detection/venv/lib/python3.13/site-packages/IPython/core/display.py:1090\u001b[39m, in \u001b[36mImage._repr_mimebundle_\u001b[39m\u001b[34m(self, include, exclude)\u001b[39m\n\u001b[32m   1088\u001b[39m \u001b[38;5;28;01mif\u001b[39;00m \u001b[38;5;28mself\u001b[39m.embed:\n\u001b[32m   1089\u001b[39m     mimetype = \u001b[38;5;28mself\u001b[39m._mimetype\n\u001b[32m-> \u001b[39m\u001b[32m1090\u001b[39m     data, metadata = \u001b[38;5;28;43mself\u001b[39;49m\u001b[43m.\u001b[49m\u001b[43m_data_and_metadata\u001b[49m\u001b[43m(\u001b[49m\u001b[43malways_both\u001b[49m\u001b[43m=\u001b[49m\u001b[38;5;28;43;01mTrue\u001b[39;49;00m\u001b[43m)\u001b[49m\n\u001b[32m   1091\u001b[39m     \u001b[38;5;28;01mif\u001b[39;00m metadata:\n\u001b[32m   1092\u001b[39m         metadata = {mimetype: metadata}\n",
            "\u001b[36mFile \u001b[39m\u001b[32m~/Documents/Personnel/Car-Number-Plates-Detection/venv/lib/python3.13/site-packages/IPython/core/display.py:1102\u001b[39m, in \u001b[36mImage._data_and_metadata\u001b[39m\u001b[34m(self, always_both)\u001b[39m\n\u001b[32m   1100\u001b[39m     b64_data = b2a_base64(\u001b[38;5;28mself\u001b[39m.data, newline=\u001b[38;5;28;01mFalse\u001b[39;00m).decode(\u001b[33m\"\u001b[39m\u001b[33mascii\u001b[39m\u001b[33m\"\u001b[39m)\n\u001b[32m   1101\u001b[39m \u001b[38;5;28;01mexcept\u001b[39;00m \u001b[38;5;167;01mTypeError\u001b[39;00m \u001b[38;5;28;01mas\u001b[39;00m e:\n\u001b[32m-> \u001b[39m\u001b[32m1102\u001b[39m     \u001b[38;5;28;01mraise\u001b[39;00m \u001b[38;5;167;01mFileNotFoundError\u001b[39;00m(\n\u001b[32m   1103\u001b[39m         \u001b[33m\"\u001b[39m\u001b[33mNo such file or directory: \u001b[39m\u001b[33m'\u001b[39m\u001b[38;5;132;01m%s\u001b[39;00m\u001b[33m'\u001b[39m\u001b[33m\"\u001b[39m % (\u001b[38;5;28mself\u001b[39m.data)) \u001b[38;5;28;01mfrom\u001b[39;00m\u001b[38;5;250m \u001b[39m\u001b[34;01me\u001b[39;00m\n\u001b[32m   1104\u001b[39m md = {}\n\u001b[32m   1105\u001b[39m \u001b[38;5;28;01mif\u001b[39;00m \u001b[38;5;28mself\u001b[39m.metadata:\n",
            "\u001b[31mFileNotFoundError\u001b[39m: No such file or directory: '/Users/macbook/Documents/Personnel/Car-Number-Plates-Detection/plates/s2222.png'"
          ]
        },
        {
          "ename": "FileNotFoundError",
          "evalue": "No such file or directory: '/Users/macbook/Documents/Personnel/Car-Number-Plates-Detection/plates/s2222.png'",
          "output_type": "error",
          "traceback": [
            "\u001b[31m---------------------------------------------------------------------------\u001b[39m",
            "\u001b[31mTypeError\u001b[39m                                 Traceback (most recent call last)",
            "\u001b[36mFile \u001b[39m\u001b[32m~/Documents/Personnel/Car-Number-Plates-Detection/venv/lib/python3.13/site-packages/IPython/core/display.py:1100\u001b[39m, in \u001b[36mImage._data_and_metadata\u001b[39m\u001b[34m(self, always_both)\u001b[39m\n\u001b[32m   1099\u001b[39m \u001b[38;5;28;01mtry\u001b[39;00m:\n\u001b[32m-> \u001b[39m\u001b[32m1100\u001b[39m     b64_data = \u001b[43mb2a_base64\u001b[49m\u001b[43m(\u001b[49m\u001b[38;5;28;43mself\u001b[39;49m\u001b[43m.\u001b[49m\u001b[43mdata\u001b[49m\u001b[43m,\u001b[49m\u001b[43m \u001b[49m\u001b[43mnewline\u001b[49m\u001b[43m=\u001b[49m\u001b[38;5;28;43;01mFalse\u001b[39;49;00m\u001b[43m)\u001b[49m.decode(\u001b[33m\"\u001b[39m\u001b[33mascii\u001b[39m\u001b[33m\"\u001b[39m)\n\u001b[32m   1101\u001b[39m \u001b[38;5;28;01mexcept\u001b[39;00m \u001b[38;5;167;01mTypeError\u001b[39;00m \u001b[38;5;28;01mas\u001b[39;00m e:\n",
            "\u001b[31mTypeError\u001b[39m: a bytes-like object is required, not 'str'",
            "\nThe above exception was the direct cause of the following exception:\n",
            "\u001b[31mFileNotFoundError\u001b[39m                         Traceback (most recent call last)",
            "\u001b[36mFile \u001b[39m\u001b[32m~/Documents/Personnel/Car-Number-Plates-Detection/venv/lib/python3.13/site-packages/IPython/core/formatters.py:406\u001b[39m, in \u001b[36mBaseFormatter.__call__\u001b[39m\u001b[34m(self, obj)\u001b[39m\n\u001b[32m    404\u001b[39m     method = get_real_method(obj, \u001b[38;5;28mself\u001b[39m.print_method)\n\u001b[32m    405\u001b[39m     \u001b[38;5;28;01mif\u001b[39;00m method \u001b[38;5;129;01mis\u001b[39;00m \u001b[38;5;129;01mnot\u001b[39;00m \u001b[38;5;28;01mNone\u001b[39;00m:\n\u001b[32m--> \u001b[39m\u001b[32m406\u001b[39m         \u001b[38;5;28;01mreturn\u001b[39;00m \u001b[43mmethod\u001b[49m\u001b[43m(\u001b[49m\u001b[43m)\u001b[49m\n\u001b[32m    407\u001b[39m     \u001b[38;5;28;01mreturn\u001b[39;00m \u001b[38;5;28;01mNone\u001b[39;00m\n\u001b[32m    408\u001b[39m \u001b[38;5;28;01melse\u001b[39;00m:\n",
            "\u001b[36mFile \u001b[39m\u001b[32m~/Documents/Personnel/Car-Number-Plates-Detection/venv/lib/python3.13/site-packages/IPython/core/display.py:1122\u001b[39m, in \u001b[36mImage._repr_png_\u001b[39m\u001b[34m(self)\u001b[39m\n\u001b[32m   1120\u001b[39m \u001b[38;5;28;01mdef\u001b[39;00m\u001b[38;5;250m \u001b[39m\u001b[34m_repr_png_\u001b[39m(\u001b[38;5;28mself\u001b[39m):\n\u001b[32m   1121\u001b[39m     \u001b[38;5;28;01mif\u001b[39;00m \u001b[38;5;28mself\u001b[39m.embed \u001b[38;5;129;01mand\u001b[39;00m \u001b[38;5;28mself\u001b[39m.format == \u001b[38;5;28mself\u001b[39m._FMT_PNG:\n\u001b[32m-> \u001b[39m\u001b[32m1122\u001b[39m         \u001b[38;5;28;01mreturn\u001b[39;00m \u001b[38;5;28;43mself\u001b[39;49m\u001b[43m.\u001b[49m\u001b[43m_data_and_metadata\u001b[49m\u001b[43m(\u001b[49m\u001b[43m)\u001b[49m\n",
            "\u001b[36mFile \u001b[39m\u001b[32m~/Documents/Personnel/Car-Number-Plates-Detection/venv/lib/python3.13/site-packages/IPython/core/display.py:1102\u001b[39m, in \u001b[36mImage._data_and_metadata\u001b[39m\u001b[34m(self, always_both)\u001b[39m\n\u001b[32m   1100\u001b[39m     b64_data = b2a_base64(\u001b[38;5;28mself\u001b[39m.data, newline=\u001b[38;5;28;01mFalse\u001b[39;00m).decode(\u001b[33m\"\u001b[39m\u001b[33mascii\u001b[39m\u001b[33m\"\u001b[39m)\n\u001b[32m   1101\u001b[39m \u001b[38;5;28;01mexcept\u001b[39;00m \u001b[38;5;167;01mTypeError\u001b[39;00m \u001b[38;5;28;01mas\u001b[39;00m e:\n\u001b[32m-> \u001b[39m\u001b[32m1102\u001b[39m     \u001b[38;5;28;01mraise\u001b[39;00m \u001b[38;5;167;01mFileNotFoundError\u001b[39;00m(\n\u001b[32m   1103\u001b[39m         \u001b[33m\"\u001b[39m\u001b[33mNo such file or directory: \u001b[39m\u001b[33m'\u001b[39m\u001b[38;5;132;01m%s\u001b[39;00m\u001b[33m'\u001b[39m\u001b[33m\"\u001b[39m % (\u001b[38;5;28mself\u001b[39m.data)) \u001b[38;5;28;01mfrom\u001b[39;00m\u001b[38;5;250m \u001b[39m\u001b[34;01me\u001b[39;00m\n\u001b[32m   1104\u001b[39m md = {}\n\u001b[32m   1105\u001b[39m \u001b[38;5;28;01mif\u001b[39;00m \u001b[38;5;28mself\u001b[39m.metadata:\n",
            "\u001b[31mFileNotFoundError\u001b[39m: No such file or directory: '/Users/macbook/Documents/Personnel/Car-Number-Plates-Detection/plates/s2222.png'"
          ]
        },
        {
          "data": {
            "text/plain": [
              "<IPython.core.display.Image object>"
            ]
          },
          "execution_count": 3,
          "metadata": {},
          "output_type": "execute_result"
        }
      ],
      "source": [
        "Image(\"/Users/macbook/Documents/Personnel/Car-Number-Plates-Detection/plates/s2222.png\")"
      ]
    },
    {
      "cell_type": "code",
      "execution_count": 4,
      "metadata": {
        "colab": {
          "base_uri": "https://localhost:8080/"
        },
        "id": "ZYD5fu4NCq2U",
        "outputId": "8a9390ef-9bad-443f-88d8-48411a496fc6"
      },
      "outputs": [],
      "source": [
        "\n",
        "reader = easyocr.Reader(['en'])"
      ]
    },
    {
      "cell_type": "code",
      "execution_count": 5,
      "metadata": {
        "id": "ZCHP-450Cl9x"
      },
      "outputs": [],
      "source": [
        "\n",
        "output = reader.readtext('/Users/macbook/Documents/Personnel/Car-Number-Plates-Detection/plates/2222.png')"
      ]
    },
    {
      "cell_type": "code",
      "execution_count": 6,
      "metadata": {
        "colab": {
          "base_uri": "https://localhost:8080/"
        },
        "id": "Ao44WMNJC_4R",
        "outputId": "4f9bc326-5f01-4871-9388-86c3726df528"
      },
      "outputs": [
        {
          "data": {
            "text/plain": [
              "[([[np.int32(311), 0],\n",
              "   [np.int32(389), 0],\n",
              "   [np.int32(389), np.int32(17)],\n",
              "   [np.int32(311), np.int32(17)]],\n",
              "  'Lockea',\n",
              "  np.float64(0.9128305953663051)),\n",
              " ([[np.int32(1003), np.int32(645)],\n",
              "   [np.int32(1245), np.int32(645)],\n",
              "   [np.int32(1245), np.int32(689)],\n",
              "   [np.int32(1003), np.int32(689)]],\n",
              "  'FeDG',\n",
              "  np.float64(0.07322616875171661)),\n",
              " ([[np.int32(439), np.int32(747)],\n",
              "   [np.int32(1013), np.int32(747)],\n",
              "   [np.int32(1013), np.int32(855)],\n",
              "   [np.int32(439), np.int32(855)]],\n",
              "  'KA 64 N 0099',\n",
              "  np.float64(0.8557685223331126))]"
            ]
          },
          "execution_count": 6,
          "metadata": {},
          "output_type": "execute_result"
        }
      ],
      "source": [
        "output"
      ]
    },
    {
      "cell_type": "code",
      "execution_count": 7,
      "metadata": {
        "id": "SW8P4tA2DHKh"
      },
      "outputs": [],
      "source": [
        "cord = output[-1][0]"
      ]
    },
    {
      "cell_type": "code",
      "execution_count": 8,
      "metadata": {
        "colab": {
          "base_uri": "https://localhost:8080/"
        },
        "id": "Vj08hYknEXnE",
        "outputId": "61c8259b-2140-49d4-95f1-0f24ea43e5ec"
      },
      "outputs": [
        {
          "data": {
            "text/plain": [
              "[[np.int32(439), np.int32(747)],\n",
              " [np.int32(1013), np.int32(747)],\n",
              " [np.int32(1013), np.int32(855)],\n",
              " [np.int32(439), np.int32(855)]]"
            ]
          },
          "execution_count": 8,
          "metadata": {},
          "output_type": "execute_result"
        }
      ],
      "source": [
        "cord"
      ]
    },
    {
      "cell_type": "code",
      "execution_count": 9,
      "metadata": {
        "colab": {
          "base_uri": "https://localhost:8080/"
        },
        "id": "3nXoyWdoEc2i",
        "outputId": "71c34b51-6ea6-4274-b6e8-e731cfe78afb"
      },
      "outputs": [
        {
          "data": {
            "text/plain": [
              "[(np.int32(439), np.int32(1013), np.int32(1013), np.int32(439)),\n",
              " (np.int32(747), np.int32(747), np.int32(855), np.int32(855))]"
            ]
          },
          "execution_count": 9,
          "metadata": {},
          "output_type": "execute_result"
        }
      ],
      "source": [
        "a = list(zip(*cord))\n",
        "a"
      ]
    },
    {
      "cell_type": "code",
      "execution_count": 10,
      "metadata": {
        "colab": {
          "base_uri": "https://localhost:8080/"
        },
        "id": "-Talju53ExKb",
        "outputId": "678b4ff1-531c-46d6-ec2e-e6b209d0dc8e"
      },
      "outputs": [
        {
          "data": {
            "text/plain": [
              "np.int32(439)"
            ]
          },
          "execution_count": 10,
          "metadata": {},
          "output_type": "execute_result"
        }
      ],
      "source": [
        "min(a[0])"
      ]
    },
    {
      "cell_type": "code",
      "execution_count": 11,
      "metadata": {
        "colab": {
          "base_uri": "https://localhost:8080/"
        },
        "id": "sfDxg7_RE_PE",
        "outputId": "a71e2913-4f3a-40e4-bddc-fda5b0a15fe6"
      },
      "outputs": [
        {
          "data": {
            "text/plain": [
              "np.int32(747)"
            ]
          },
          "execution_count": 11,
          "metadata": {},
          "output_type": "execute_result"
        }
      ],
      "source": [
        "min(a[1])"
      ]
    },
    {
      "cell_type": "code",
      "execution_count": 12,
      "metadata": {
        "colab": {
          "base_uri": "https://localhost:8080/"
        },
        "id": "3SNxkER_FlKN",
        "outputId": "07c72bee-cd08-4f38-919f-8adc8866144e"
      },
      "outputs": [
        {
          "data": {
            "text/plain": [
              "np.int32(1013)"
            ]
          },
          "execution_count": 12,
          "metadata": {},
          "output_type": "execute_result"
        }
      ],
      "source": [
        "max(a[0])"
      ]
    },
    {
      "cell_type": "code",
      "execution_count": 13,
      "metadata": {
        "colab": {
          "base_uri": "https://localhost:8080/"
        },
        "id": "Ra4nrXngFlM7",
        "outputId": "0c586331-1fc5-4b8b-a248-82b43ccdd837"
      },
      "outputs": [
        {
          "data": {
            "text/plain": [
              "np.int32(855)"
            ]
          },
          "execution_count": 13,
          "metadata": {},
          "output_type": "execute_result"
        }
      ],
      "source": [
        "max(a[1])"
      ]
    },
    {
      "cell_type": "code",
      "execution_count": 14,
      "metadata": {
        "id": "7zwP5q_zDKuh"
      },
      "outputs": [],
      "source": [
        "\n",
        "x_min, y_min = [int(min(idx)) for idx in zip(*cord)]"
      ]
    },
    {
      "cell_type": "code",
      "execution_count": 15,
      "metadata": {
        "colab": {
          "base_uri": "https://localhost:8080/"
        },
        "id": "RlZab6VGFWgz",
        "outputId": "53556660-74a8-4c92-966b-f63dba82ef41"
      },
      "outputs": [
        {
          "data": {
            "text/plain": [
              "(439, 747)"
            ]
          },
          "execution_count": 15,
          "metadata": {},
          "output_type": "execute_result"
        }
      ],
      "source": [
        "x_min, y_min"
      ]
    },
    {
      "cell_type": "code",
      "execution_count": 16,
      "metadata": {
        "id": "XSPxi2_RDMXJ"
      },
      "outputs": [],
      "source": [
        "\n",
        "x_max, y_max = [int(max(idx)) for idx in zip(*cord)]"
      ]
    },
    {
      "cell_type": "code",
      "execution_count": 17,
      "metadata": {
        "colab": {
          "base_uri": "https://localhost:8080/"
        },
        "id": "HPJwuE3-FgNk",
        "outputId": "0b7e84f1-177d-4a91-a5e7-bb83df9dbbb6"
      },
      "outputs": [
        {
          "data": {
            "text/plain": [
              "(1013, 855)"
            ]
          },
          "execution_count": 17,
          "metadata": {},
          "output_type": "execute_result"
        }
      ],
      "source": [
        "x_max, y_max"
      ]
    },
    {
      "cell_type": "code",
      "execution_count": 18,
      "metadata": {
        "id": "NNGr7AzoD3xK"
      },
      "outputs": [],
      "source": [
        "from pylab import rcParams\n",
        "rcParams['figure.figsize'] = 20, 30"
      ]
    },
    {
      "cell_type": "code",
      "execution_count": 19,
      "metadata": {
        "colab": {
          "base_uri": "https://localhost:8080/",
          "height": 825
        },
        "id": "DSxNIGFGDNga",
        "outputId": "ed0de668-4fb3-4b71-af56-2942a58d15f0"
      },
      "outputs": [
        {
          "name": "stderr",
          "output_type": "stream",
          "text": [
            "[ WARN:0@11.581] global loadsave.cpp:268 findDecoder imread_('/content/bottle.jpg'): can't open/read file: check file path/integrity\n"
          ]
        },
        {
          "ename": "error",
          "evalue": "OpenCV(4.11.0) /Users/xperience/GHA-Actions-OpenCV/_work/opencv-python/opencv-python/opencv/modules/imgproc/src/color.cpp:199: error: (-215:Assertion failed) !_src.empty() in function 'cvtColor'\n",
          "output_type": "error",
          "traceback": [
            "\u001b[31m---------------------------------------------------------------------------\u001b[39m",
            "\u001b[31merror\u001b[39m                                     Traceback (most recent call last)",
            "\u001b[36mCell\u001b[39m\u001b[36m \u001b[39m\u001b[32mIn[19]\u001b[39m\u001b[32m, line 3\u001b[39m\n\u001b[32m      1\u001b[39m image = cv2.imread(\u001b[33m'\u001b[39m\u001b[33m/content/bottle.jpg\u001b[39m\u001b[33m'\u001b[39m)\n\u001b[32m      2\u001b[39m cv2.rectangle(image,(x_min,y_min),(x_max,y_max),(\u001b[32m0\u001b[39m,\u001b[32m0\u001b[39m,\u001b[32m255\u001b[39m),\u001b[32m2\u001b[39m)\n\u001b[32m----> \u001b[39m\u001b[32m3\u001b[39m plt.imshow(\u001b[43mcv2\u001b[49m\u001b[43m.\u001b[49m\u001b[43mcvtColor\u001b[49m\u001b[43m(\u001b[49m\u001b[43mimage\u001b[49m\u001b[43m,\u001b[49m\u001b[43m \u001b[49m\u001b[43mcv2\u001b[49m\u001b[43m.\u001b[49m\u001b[43mCOLOR_BGR2RGB\u001b[49m\u001b[43m)\u001b[49m)\n",
            "\u001b[31merror\u001b[39m: OpenCV(4.11.0) /Users/xperience/GHA-Actions-OpenCV/_work/opencv-python/opencv-python/opencv/modules/imgproc/src/color.cpp:199: error: (-215:Assertion failed) !_src.empty() in function 'cvtColor'\n"
          ]
        }
      ],
      "source": [
        "image = cv2.imread('/content/bottle.jpg')\n",
        "cv2.rectangle(image,(x_min,y_min),(x_max,y_max),(0,0,255),2)\n",
        "plt.imshow(cv2.cvtColor(image, cv2.COLOR_BGR2RGB))"
      ]
    },
    {
      "cell_type": "code",
      "execution_count": null,
      "metadata": {
        "id": "4x7HEJ-dHzRp"
      },
      "outputs": [],
      "source": []
    }
  ],
  "metadata": {
    "accelerator": "GPU",
    "colab": {
      "provenance": []
    },
    "kernelspec": {
      "display_name": "venv",
      "language": "python",
      "name": "python3"
    },
    "language_info": {
      "codemirror_mode": {
        "name": "ipython",
        "version": 3
      },
      "file_extension": ".py",
      "mimetype": "text/x-python",
      "name": "python",
      "nbconvert_exporter": "python",
      "pygments_lexer": "ipython3",
      "version": "3.13.2"
    }
  },
  "nbformat": 4,
  "nbformat_minor": 0
}
